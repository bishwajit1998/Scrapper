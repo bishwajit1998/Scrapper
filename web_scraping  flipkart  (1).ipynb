{
 "cells": [
  {
   "cell_type": "code",
   "execution_count": 65,
   "metadata": {},
   "outputs": [],
   "source": [
    "from selenium import webdriver\n",
    "from bs4 import BeautifulSoup\n",
    "import pandas as pd"
   ]
  },
  {
   "cell_type": "code",
   "execution_count": 66,
   "metadata": {},
   "outputs": [],
   "source": [
    "driver = webdriver.Chrome(executable_path='C:\\\\Users\\\\Bishwajit\\\\Desktop\\\\chromedriver.exe')"
   ]
  },
  {
   "cell_type": "code",
   "execution_count": 67,
   "metadata": {},
   "outputs": [],
   "source": [
    "full_url = \"https://www.flipkart.com/poco-x3-shadow-gray-128-gb/product-reviews/itm5d16b79dc1d20?pid=MOBFVQJ5HUBH33YX&lid=LSTMOBFVQJ5HUBH33YXTBMWID&marketplace=FLIPKART\"\n",
    "driver.get(full_url)"
   ]
  },
  {
   "cell_type": "code",
   "execution_count": 68,
   "metadata": {},
   "outputs": [],
   "source": [
    "## Add the certified consumer part i deleted that earlier rest is already there"
   ]
  },
  {
   "cell_type": "code",
   "execution_count": 69,
   "metadata": {},
   "outputs": [],
   "source": [
    "ratings=[] #List to store name of the product\n",
    "review_title=[] #List to store price of the product\n",
    "reviews=[] #List to store rating of the product\n",
    "upvotes = []\n",
    "downvotes =[]\n",
    "name=[]\n",
    "date = []\n",
    "votes = []\n",
    "age = []\n",
    "period =[]"
   ]
  },
  {
   "cell_type": "markdown",
   "metadata": {},
   "source": [
    "# import requests as rq\n",
    "qq = driver.current_url\n",
    "r1 = rq.get(qq)\n",
    "soup = BeautifulSoup(r1.text, 'html.parser')\n",
    "for i in range(1,100):\n",
    "        driver.get(str(full_url)+'&page='+str(i))\n",
    "        q1 = driver.current_url\n",
    "        r2 = rq.get(q1)\n",
    "        soup = BeautifulSoup(r2.text, 'html.parser')\n",
    "        for ra in soup.find_all('div',{'class':'_3LWZlK _1BLPMq'}):\n",
    "                    ab = ra.get_text()\n",
    "                    ratings.append(ab)\n",
    "        for rb in soup.find_all('p',{'class':'_2-N8zT'}):\n",
    "                    ac =rb.get_text()\n",
    "                    review_title.append(ac)\n",
    "        for rc in soup.find_all('div',{'class':'t-ZTKy'}):\n",
    "                    ad =rc.get_text()\n",
    "                    reviews.append(ad) \n",
    "        for rd in soup.find_all('div',{'class':'_1LmwT9'}):\n",
    "                    ae =rd.get_text()\n",
    "                    votes.append(ae)\n",
    "        #for re in soup.find_all('div',{'class':'_1LmwT9 pkR4jH'}):\n",
    "        #         af =re.get_text()\n",
    "        #         downvotes.append(af)\n",
    "        #for rf in soup.find_all('p',{'class':'_2sc7ZR'}):\n",
    "        #           ag = rf.get_text()\n",
    "        #           date.append(ag)\n",
    "        for rg in soup.find_all('p',{'class':'_2sc7ZR'}):\n",
    "                    ah = rg.get_text()\n",
    "                    age.append(ah)\n",
    "\n",
    "upvotes = votes[0::2]\n",
    "downvotes = votes[1::2]\n",
    "name = age[0::2]\n",
    "period = age[1::2]\n",
    "print(upvotes, downvotes)"
   ]
  },
  {
   "cell_type": "code",
   "execution_count": 71,
   "metadata": {},
   "outputs": [],
   "source": [
    "df = pd.DataFrame([name,ratings, review_title, reviews, upvotes, downvotes,period]).transpose()\n",
    "df.to_csv('POCO X3 (Shadow Gray, 128 GB) Reviews.csv', index=False, encoding='utf-8')"
   ]
  },
  {
   "cell_type": "code",
   "execution_count": 72,
   "metadata": {},
   "outputs": [],
   "source": [
    "#len(upvotes)"
   ]
  },
  {
   "cell_type": "code",
   "execution_count": 56,
   "metadata": {},
   "outputs": [],
   "source": [
    "#len(downvotes)"
   ]
  },
  {
   "cell_type": "code",
   "execution_count": null,
   "metadata": {},
   "outputs": [],
   "source": []
  },
  {
   "cell_type": "code",
   "execution_count": null,
   "metadata": {},
   "outputs": [],
   "source": []
  },
  {
   "cell_type": "code",
   "execution_count": null,
   "metadata": {},
   "outputs": [],
   "source": []
  }
 ],
 "metadata": {
  "kernelspec": {
   "display_name": "Python 3",
   "language": "python",
   "name": "python3"
  },
  "language_info": {
   "codemirror_mode": {
    "name": "ipython",
    "version": 3
   },
   "file_extension": ".py",
   "mimetype": "text/x-python",
   "name": "python",
   "nbconvert_exporter": "python",
   "pygments_lexer": "ipython3",
   "version": "3.8.5"
  }
 },
 "nbformat": 4,
 "nbformat_minor": 4
}
