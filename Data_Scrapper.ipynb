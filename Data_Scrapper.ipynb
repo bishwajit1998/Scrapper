{
 "cells": [
  {
   "cell_type": "code",
   "execution_count": 48,
   "metadata": {},
   "outputs": [],
   "source": [
    "import time\n",
    "from selenium import webdriver\n",
    "from webdriver_manager.chrome import ChromeDriverManager\n",
    "import pandas as pd\n",
    "from bs4 import BeautifulSoup"
   ]
  },
  {
   "cell_type": "code",
   "execution_count": 49,
   "metadata": {},
   "outputs": [],
   "source": [
    "driver = webdriver.Chrome(executable_path='C:\\\\Users\\\\Bishwajit\\\\Desktop\\\\chromedriver.exe')\n",
    "driver.get('https://play.google.com/store/search?q=casino&c=apps')\n",
    "time.sleep(10)"
   ]
  },
  {
   "cell_type": "code",
   "execution_count": 50,
   "metadata": {},
   "outputs": [],
   "source": [
    "# SCROLL_PAUSE_TIME = 5\n",
    " \n",
    "# # Get scroll height\n",
    "# last_height = driver.execute_script(\"return document.body.scrollHeight\")\n",
    "# time.sleep(SCROLL_PAUSE_TIME)\n",
    " \n",
    "# while True:\n",
    "#     # Scroll down to bottom\n",
    "#     driver.execute_script(\"window.scrollTo(0, document.body.scrollHeight);\")\n",
    " \n",
    "#     # Wait to load page\n",
    "#     time.sleep(SCROLL_PAUSE_TIME)\n",
    " \n",
    "#     # Calculate new scroll height and compare with last scroll height\n",
    "#     new_height = driver.execute_script(\"return document.body.scrollHeight\")\n",
    "#     if new_height == last_height:\n",
    "#         break\n",
    "#     last_height = new_height"
   ]
  },
  {
   "cell_type": "code",
   "execution_count": 51,
   "metadata": {},
   "outputs": [
    {
     "name": "stdout",
     "output_type": "stream",
     "text": [
      "['https://play.google.com/store/apps/details?id=com.mw.rouletteroyale', 'https://play.google.com/store/apps/details?id=com.and.kk.jackpot.storm.game', 'https://play.google.com/store/apps/details?id=com.slotsgames.betcasino.bingo.roulette', 'https://play.google.com/store/apps/details?id=sk.inlogic.roulettepro.android', 'https://play.google.com/store/apps/details?id=co.mobigaming.live', 'https://play.google.com/store/apps/details?id=com.huuuge.casino.slots', 'https://play.google.com/store/apps/details?id=sk.inlogic.rouletteprovip.android', 'https://play.google.com/store/apps/details?id=com.luckyjackpot.roulette.casino.games.free', 'https://play.google.com/store/apps/details?id=com.wild.classic.slots.vegas.casino.games', 'https://play.google.com/store/apps/details?id=com.huuuge.casino.texas', 'https://play.google.com/store/apps/details?id=com.tw.tycoon.casino', 'https://play.google.com/store/apps/details?id=com.slotslimited.goldencasino', 'https://play.google.com/store/apps/details?id=com.sunbeach.roulette', 'https://play.google.com/store/apps/details?id=com.RocketGames.ClassicSlots', 'https://play.google.com/store/apps/details?id=com.abzorbagames.roulette', 'https://play.google.com/store/apps/details?id=com.rnftechs.roulette.activities', 'https://play.google.com/store/apps/details?id=com.cashstorm.slots', 'https://play.google.com/store/apps/details?id=com.huge.slots.casino.vegas.android.avidly', 'https://play.google.com/store/apps/details?id=com.doubleugames.DoubleUCasino', 'https://play.google.com/store/apps/details?id=com.nurigames.casinolive', 'https://play.google.com/store/apps/details?id=com.slotslot.slot', 'https://play.google.com/store/apps/details?id=com.funstage.gta', 'https://play.google.com/store/apps/details?id=air.com.playtika.slotomania', 'https://play.google.com/store/apps/details?id=com.gsn.grandcasino', 'https://play.google.com/store/apps/details?id=com.gonline.AppBravoCasino', 'https://play.google.com/store/apps/details?id=com.williamsinteractive.jackpotparty', 'https://play.google.com/store/apps/details?id=com.nurigames.casinovegas', 'https://play.google.com/store/apps/details?id=com.ballytechnologies.f88', 'https://play.google.com/store/apps/details?id=triwin.casino.slots.fortune.gold', 'https://play.google.com/store/apps/details?id=com.kamagames.roulettist', 'https://play.google.com/store/apps/details?id=com.memoriki.fullhousecasino', 'https://play.google.com/store/apps/details?id=com.grandegames.slots.dafu.casino', 'https://play.google.com/store/apps/details?id=com.hncgames.realcasino', 'https://play.google.com/store/apps/details?id=com.playtika.caesarscasino', 'https://play.google.com/store/apps/details?id=com.gamespring.dac', 'https://play.google.com/store/apps/details?id=com.platogo.pmp', 'https://play.google.com/store/apps/details?id=sk.corvinus.roulettevegascasinogame', 'https://play.google.com/store/apps/details?id=com.gsn.android.casino', 'https://play.google.com/store/apps/details?id=com.eVeek.SlotsCasino', 'https://play.google.com/store/apps/details?id=com.productmadness.fafafagold', 'https://play.google.com/store/apps/details?id=com.igg.android.casinodeluxebyigg', 'https://play.google.com/store/apps/details?id=clubillion.social.slots.casino.friends.free.android', 'https://play.google.com/store/apps/details?id=slots.pcg.casino.games.free.android', 'https://play.google.com/store/apps/details?id=com.stgame.slots.cash', 'https://play.google.com/store/apps/details?id=com.h5g.high5casino', 'https://play.google.com/store/apps/details?id=com.crazino', 'https://play.google.com/store/apps/details?id=com.selfawaregames.acecasino', 'https://play.google.com/store/apps/details?id=slots.slot.machine.casino', 'https://play.google.com/store/apps/details?id=com.linkdesks.slotmachines', 'https://play.google.com/store/apps/details?id=com.superluckycasino.fortunespin.slots.vegas.android.free']\n"
     ]
    }
   ],
   "source": [
    "links_games = []\n",
    "elems = driver.find_elements_by_xpath(\"//a[@href]\")\n",
    "for elem in elems:\n",
    "    if \"details?id\" in elem.get_attribute(\"href\"):\n",
    "        links_games.append((elem.get_attribute(\"href\")))\n",
    "        \n",
    "links_games = list(dict.fromkeys(links_games))\n",
    "print(links_games)"
   ]
  },
  {
   "cell_type": "code",
   "execution_count": 52,
   "metadata": {},
   "outputs": [
    {
     "name": "stdout",
     "output_type": "stream",
     "text": [
      "4.3\n",
      "4.9\n",
      "4.9\n",
      "4.6\n",
      "An exception of type NoSuchElementException occurred. Arguments:\n",
      "('no such element: Unable to locate element: {\"method\":\"css selector\",\"selector\":\".BHMmbe\"}\\n  (Session info: chrome=90.0.4430.212)', None, None)\n",
      "4.3\n",
      "4.5\n",
      "4.6\n",
      "4.3\n",
      "4.3\n",
      "4.7\n",
      "4.7\n",
      "3.6\n",
      "4.6\n",
      "4.4\n",
      "4.3\n",
      "4.7\n",
      "4.7\n",
      "4.4\n",
      "4.4\n",
      "4.7\n",
      "4.3\n",
      "4.4\n",
      "4.1\n",
      "4.0\n",
      "4.5\n",
      "4.4\n",
      "4.7\n",
      "4.6\n",
      "4.3\n",
      "4.6\n",
      "4.5\n",
      "4.5\n",
      "4.3\n",
      "4.5\n",
      "4.3\n",
      "4.0\n",
      "4.2\n",
      "4.5\n",
      "3.8\n",
      "4.0\n",
      "4.6\n",
      "4.6\n",
      "4.8\n",
      "4.3\n",
      "An exception of type NoSuchElementException occurred. Arguments:\n",
      "('no such element: Unable to locate element: {\"method\":\"css selector\",\"selector\":\".BHMmbe\"}\\n  (Session info: chrome=90.0.4430.212)', None, None)\n",
      "4.5\n",
      "4.4\n",
      "4.4\n",
      "4.8\n"
     ]
    }
   ],
   "source": [
    "# links_games = ['https://play.google.com/store/apps/details?id=slots.pcg.casino.games.free.android']\n",
    "    \n",
    "\n",
    "mapped_data = []\n",
    "\n",
    "for link in links_games:\n",
    "    driver.get(link)\n",
    "    try:\n",
    "        header1 = (driver.find_element_by_tag_name(\"h1\").text)\n",
    "        star = (driver.find_element_by_class_name(\"BHMmbe\").text)\n",
    "        print(star)\n",
    "        review_count = (driver.find_element_by_class_name(\"EymY4b\").text.split()[0])\n",
    "        others = (driver.find_elements_by_class_name(\"htlgb\"))\n",
    "        \n",
    "        list_others = []\n",
    "        for x in range (len(others)):\n",
    "            if x % 2 == 0:\n",
    "                list_others.append(others[x].text)\n",
    "#         titles = (driver.find_elements_by_class_name(\"BgcNfc\"))\n",
    "        temp = [link, header1, star, review_count,list_others[2]]\n",
    "        mapped_data.append(temp)\n",
    "#         print(temp)\n",
    "    except Exception as ex:\n",
    "        template = \"An exception of type {0} occurred. Arguments:\\n{1!r}\"\n",
    "        message = template.format(type(ex).__name__, ex.args)\n",
    "        print(message)"
   ]
  },
  {
   "cell_type": "code",
   "execution_count": 53,
   "metadata": {},
   "outputs": [],
   "source": [
    " \n",
    "df = pd.DataFrame(mapped_data ,columns=['URL','Name','Star', 'Rating Count', 'Installs'])\n",
    "# print(list_all_elements)\n",
    "df.to_csv('C:\\\\Users\\\\Bishwajit\\\\Desktop\\\\final1.csv', header = True, index=False)\n",
    "\n"
   ]
  },
  {
   "cell_type": "code",
   "execution_count": null,
   "metadata": {},
   "outputs": [],
   "source": []
  },
  {
   "cell_type": "code",
   "execution_count": null,
   "metadata": {},
   "outputs": [],
   "source": []
  },
  {
   "cell_type": "code",
   "execution_count": null,
   "metadata": {},
   "outputs": [],
   "source": []
  }
 ],
 "metadata": {
  "kernelspec": {
   "display_name": "Python 3",
   "language": "python",
   "name": "python3"
  },
  "language_info": {
   "codemirror_mode": {
    "name": "ipython",
    "version": 3
   },
   "file_extension": ".py",
   "mimetype": "text/x-python",
   "name": "python",
   "nbconvert_exporter": "python",
   "pygments_lexer": "ipython3",
   "version": "3.8.5"
  }
 },
 "nbformat": 4,
 "nbformat_minor": 4
}
